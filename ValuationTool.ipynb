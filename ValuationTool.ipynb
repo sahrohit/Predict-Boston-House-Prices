{
 "metadata": {
  "language_info": {
   "codemirror_mode": {
    "name": "ipython",
    "version": 3
   },
   "file_extension": ".py",
   "mimetype": "text/x-python",
   "name": "python",
   "nbconvert_exporter": "python",
   "pygments_lexer": "ipython3",
   "version": "3.9.5"
  },
  "orig_nbformat": 4,
  "kernelspec": {
   "name": "python3",
   "display_name": "Python 3.9.5 64-bit"
  },
  "interpreter": {
   "hash": "cd519daf7c005b58e5f5df68c81e46cfd95a86c513ad22c9492ed8e4a51cd833"
  }
 },
 "nbformat": 4,
 "nbformat_minor": 2,
 "cells": [
  {
   "source": [
    "## Importing Modules"
   ],
   "cell_type": "markdown",
   "metadata": {}
  },
  {
   "cell_type": "code",
   "execution_count": 1,
   "metadata": {},
   "outputs": [],
   "source": [
    "from sklearn.datasets import load_boston\n",
    "from sklearn.linear_model import LinearRegression\n",
    "from sklearn.metrics import mean_squared_error\n",
    "\n",
    "import pandas as pd\n",
    "import numpy as np\n",
    "\n",
    "import ValuationTool as vt"
   ]
  },
  {
   "source": [
    "## Reading and Cleaning the Data\n",
    "\n",
    "Using log prices to remove the outliers.\n",
    "Removing the INDUS and AGE from the feature."
   ],
   "cell_type": "markdown",
   "metadata": {}
  },
  {
   "cell_type": "code",
   "execution_count": 2,
   "metadata": {},
   "outputs": [],
   "source": [
    "boston_dataset = load_boston()\n",
    "data = pd.DataFrame(data=boston_dataset.data, columns=boston_dataset.feature_names)\n",
    "features = data.drop(['INDUS', 'AGE'], axis=1)\n",
    "\n",
    "log_prices = np.log(boston_dataset.target)\n",
    "target = pd.DataFrame(log_prices, columns=['PRICES'])"
   ]
  },
  {
   "source": [
    "## Adding a Label to the Features"
   ],
   "cell_type": "markdown",
   "metadata": {}
  },
  {
   "cell_type": "code",
   "execution_count": 3,
   "metadata": {},
   "outputs": [],
   "source": [
    "CRIME_IDX = 0\n",
    "ZN_IDX = 1\n",
    "CHAS_IDX = 2\n",
    "RM_IDX = 4\n",
    "PTRATIO_IDX = 8\n",
    "\n",
    "property_stats = features.mean().values.transpose()\n"
   ]
  },
  {
   "source": [
    "## Using Linear Regression"
   ],
   "cell_type": "markdown",
   "metadata": {}
  },
  {
   "cell_type": "code",
   "execution_count": 4,
   "metadata": {},
   "outputs": [],
   "source": [
    "regr = LinearRegression().fit(features, target)\n",
    "fitted_vals = regr.predict(features)\n",
    "\n",
    "MSE = mean_squared_error(target, fitted_vals)\n",
    "RMSE = np.sqrt(MSE)"
   ]
  },
  {
   "source": [
    "## Getting the Log Estimate with Upper and Lower Bound\n",
    "\n",
    "Getting the user entered value for Number of Rooms and and PT Ratio. <br/>\n",
    "Assigining mean value to everything else expect the user entered value."
   ],
   "cell_type": "markdown",
   "metadata": {}
  },
  {
   "cell_type": "code",
   "execution_count": 5,
   "metadata": {},
   "outputs": [],
   "source": [
    "def get_log_estimate(nr_room,students_per_classroom, next_to_river=False, high_confidence=True):\n",
    "\n",
    "    property_stats[0][RM_IDX] = nr_room\n",
    "    property_stats[0][PTRATIO_IDX] = students_per_classroom\n",
    "\n",
    "    if next_to_river:\n",
    "        property_stats[0][CHAS_IDX] = 1\n",
    "    else:\n",
    "        property_stats[0][CHAS_IDX] = 0\n",
    "\n",
    "    log_estimate = regr.predict(property_stats)[0][0]\n",
    "\n",
    "    if high_confidence:\n",
    "        upper_bound = log_estimate + 2*RMSE\n",
    "        lower_bound = log_estimate - 2*RMSE\n",
    "        interval = 95\n",
    "    else:\n",
    "        upper_bound = log_estimate + RMSE\n",
    "        lower_bound = log_estimate - RMSE\n",
    "        interval = 68\n",
    "\n",
    "    return log_estimate, upper_bound, lower_bound, interval\n",
    "\n"
   ]
  },
  {
   "cell_type": "code",
   "execution_count": 6,
   "metadata": {},
   "outputs": [
    {
     "output_type": "stream",
     "name": "stdout",
     "text": [
      "The estimated property value is 827000.0.\nAt 68% confidencethe valuation range is \nUSD 685000.0 at the lower end to USD 997000.0 at the higher end\n"
     ]
    }
   ],
   "source": [
    "ZILLOW_MEDIAN_PRICE = 583.3\n",
    "SCALE_FACTOR = ZILLOW_MEDIAN_PRICE/ np.median(boston_dataset.target)\n",
    "\n",
    "log_est, upper, lower, conf = vt.get_log_estimate(9, students_per_classroom=15, next_to_river=False, high_confidence=False)\n",
    "\n",
    "dollar_est = np.e**log_est * 1000 * SCALE_FACTOR\n",
    "dollar_hi = np.e**upper * 1000 * SCALE_FACTOR\n",
    "dollar_low = np.e**lower * 1000 * SCALE_FACTOR\n",
    "rounded_est = np.around(dollar_est, -3)\n",
    "rounded_hi = np.around(dollar_hi, -3)\n",
    "rounded_low = np.around(dollar_low, -3)\n",
    "\n",
    "print(f\"The estimated property value is {rounded_est}.\")\n",
    "print(f\"At {conf}% confidencethe valuation range is \")\n",
    "print(f\"USD {rounded_low} at the lower end to USD {rounded_hi} at the higher end\")\n"
   ]
  },
  {
   "cell_type": "code",
   "execution_count": 7,
   "metadata": {},
   "outputs": [],
   "source": [
    "def get_dollar_prices(rm, ptratio, chas=False, large_range=True):\n",
    "\n",
    "    if rm < 1 or ptratio < 1 :\n",
    "        print(\"This is unrealastic\")\n",
    "        return \n",
    "\n",
    "    log_est, upper, lower, conf = vt.get_log_estimate(rm, students_per_classroom=ptratio, next_to_river=chas, high_confidence=large_range)\n",
    "\n",
    "    dollar_est = np.e**log_est * 1000 * SCALE_FACTOR\n",
    "    dollar_hi = np.e**upper * 1000 * SCALE_FACTOR\n",
    "    dollar_low = np.e**lower * 1000 * SCALE_FACTOR\n",
    "    rounded_est = np.around(dollar_est, -3)\n",
    "    rounded_hi = np.around(dollar_hi, -3)\n",
    "    rounded_low = np.around(dollar_low, -3)\n",
    "\n",
    "    print(f\"The estimated property value is {rounded_est}.\")\n",
    "    print(f\"At {conf}% confidencethe valuation range is, \")\n",
    "    print(f\"USD {rounded_low} at the lower end to USD {rounded_hi} at the higher end\")"
   ]
  },
  {
   "cell_type": "code",
   "execution_count": 8,
   "metadata": {},
   "outputs": [
    {
     "output_type": "stream",
     "name": "stdout",
     "text": [
      "The estimated property value is 472000.0.\nAt 68% confidencethe valuation range is, \nUSD 391000.0 at the lower end to USD 569000.0 at the higher end\n"
     ]
    }
   ],
   "source": [
    "get_dollar_prices(rm=9, ptratio=30, large_range=False)"
   ]
  }
 ]
}